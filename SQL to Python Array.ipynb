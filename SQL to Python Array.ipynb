{
 "cells": [
  {
   "cell_type": "code",
   "execution_count": null,
   "metadata": {},
   "outputs": [],
   "source": [
    "def combine_arrays(words, person_id):\n",
    "    result = []\n",
    "    prev_person = person_id[0]\n",
    "    result.append(str(prev_person))\n",
    "    for i, word in enumerate(words):\n",
    "        if person_id[i] != prev_person:\n",
    "            result.append(str(person_id[i]))\n",
    "            prev_person = person_id[i]\n",
    "        result.append(word)\n",
    "    return result\n",
    "\n",
    "words = [\"Hello\", \"my\", \"name\", \"is\", \"Taylor\", \"Hi\", \"my\", \"name\", \"is\", \"Jane\", \"Hi\", \"Jane\"]\n",
    "person_id = [1, 1, 1, 1, 1, 0, 0, 0, 0, 0, 1, 1]\n",
    "result = combine_arrays(words, person_id)\n",
    "print(result)\n"
   ]
  }
 ],
 "metadata": {
  "kernelspec": {
   "display_name": "Python 3",
   "language": "python",
   "name": "python3"
  },
  "language_info": {
   "codemirror_mode": {
    "name": "ipython",
    "version": 3
   },
   "file_extension": ".py",
   "mimetype": "text/x-python",
   "name": "python",
   "nbconvert_exporter": "python",
   "pygments_lexer": "ipython3",
   "version": "3.7.3"
  }
 },
 "nbformat": 4,
 "nbformat_minor": 2
}
