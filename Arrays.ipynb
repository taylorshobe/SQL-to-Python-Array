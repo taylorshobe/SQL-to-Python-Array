{
 "cells": [
  {
   "cell_type": "code",
   "execution_count": 3,
   "metadata": {},
   "outputs": [
    {
     "name": "stdout",
     "output_type": "stream",
     "text": [
      "                                words              person_id  \\\n",
      "0       [Hello, my, name, is, Taylor]        [1, 1, 1, 1, 1]   \n",
      "1  [Hi, my, name, is, Jane, Hi, Jane]  [0, 0, 0, 0, 0, 1, 1]   \n",
      "\n",
      "                                              result  \n",
      "0       [1, Hello, 1, my, 1, name, 1, is, 1, Taylor]  \n",
      "1  [0, Hi, 0, my, 0, name, 0, is, 0, Jane, 1, Hi,...  \n"
     ]
    }
   ],
   "source": [
    "import pandas as pd\n",
    "\n",
    "df = pd.DataFrame({'words': [[\"Hello\", \"my\", \"name\", \"is\", \"Taylor\"], [\"Hi\", \"my\", \"name\", \"is\", \"Jane\", \"Hi\", \"Jane\"]],\n",
    "                   'person_id': [[1, 1, 1, 1, 1], [0, 0, 0, 0, 0, 1, 1]]})\n",
    "\n",
    "def combine_arrays(words, person_id):\n",
    "    combined = []\n",
    "    for i, word in enumerate(words):\n",
    "        combined.append(str(person_id[i]))\n",
    "        combined.append(word)\n",
    "    return combined\n",
    "\n",
    "df['result'] = df.apply(lambda x: combine_arrays(x['words'], x['person_id']), axis=1)\n",
    "\n",
    "print(df)"
   ]
  },
  {
   "cell_type": "code",
   "execution_count": null,
   "metadata": {},
   "outputs": [],
   "source": []
  },
  {
   "cell_type": "code",
   "execution_count": 9,
   "metadata": {},
   "outputs": [
    {
     "name": "stdout",
     "output_type": "stream",
     "text": [
      "                              person_id  \\\n",
      "0  [1, 1, 1, 1, 1, 0, 0, 0, 0, 0, 1, 1]   \n",
      "1  [1, 1, 1, 1, 1, 0, 0, 0, 0, 0, 0, 0]   \n",
      "\n",
      "                                            combined  \n",
      "0  [1, Hello, my, name, is, Taylor, 0, Hi, my, na...  \n",
      "1  [1, Hi, Taylor, How, are, you, 0, doing, today...  \n"
     ]
    }
   ],
   "source": [
    "def combine_arrays(words, person_id):\n",
    "    result = []\n",
    "    current_person = None\n",
    "    for i, word in enumerate(words):\n",
    "        if current_person != person_id[i]:\n",
    "            result.append(str(person_id[i]))\n",
    "            current_person = person_id[i]\n",
    "        result.append(word)\n",
    "    return result\n",
    "\n",
    "# Load the data into a pandas DataFrame\n",
    "df = pd.DataFrame({\n",
    "    'words': [[\"Hello\", \"my\", \"name\", \"is\", \"Taylor\", \"Hi\", \"my\", \"name\", \"is\", \"Jane\", \"Hi\", \"Jane\"],\n",
    "             [\"Hi\", \"Taylor\", \"How\", \"are\", \"you\", \"doing\", \"today\", \"Hi\", \"Jane\", \"I'm\", \"good\", \"thanks\"]],\n",
    "    'person_id': [[1, 1, 1, 1, 1, 0, 0, 0, 0, 0, 1, 1],\n",
    "                  [1, 1, 1, 1, 1, 0, 0, 0, 0, 0, 0, 0]]\n",
    "})\n",
    "\n",
    "# Apply the combine_arrays function to each row of the dataframe\n",
    "df['combined'] = df.apply(lambda row: combine_arrays(row['words'], row['person_id']), axis = 1)\n",
    "\n",
    "# Print the result\n",
    "print(df[['person_id', 'combined']])"
   ]
  },
  {
   "cell_type": "code",
   "execution_count": null,
   "metadata": {},
   "outputs": [],
   "source": []
  }
 ],
 "metadata": {
  "kernelspec": {
   "display_name": "Python 3",
   "language": "python",
   "name": "python3"
  },
  "language_info": {
   "codemirror_mode": {
    "name": "ipython",
    "version": 3
   },
   "file_extension": ".py",
   "mimetype": "text/x-python",
   "name": "python",
   "nbconvert_exporter": "python",
   "pygments_lexer": "ipython3",
   "version": "3.7.3"
  }
 },
 "nbformat": 4,
 "nbformat_minor": 2
}
