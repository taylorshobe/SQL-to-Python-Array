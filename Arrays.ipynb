{
 "cells": [
  {
   "cell_type": "code",
   "execution_count": 10,
   "metadata": {},
   "outputs": [],
   "source": [
    "import pandas as pd\n",
    "import re\n",
    "from IPython.display import HTML"
   ]
  },
  {
   "cell_type": "code",
   "execution_count": 22,
   "metadata": {},
   "outputs": [],
   "source": [
    "pd.options.display.max_colwidth = 80"
   ]
  },
  {
   "cell_type": "code",
   "execution_count": null,
   "metadata": {},
   "outputs": [],
   "source": [
    "pd.options.display.max_colwidth = -1"
   ]
  },
  {
   "cell_type": "code",
   "execution_count": 18,
   "metadata": {},
   "outputs": [
    {
     "name": "stdout",
     "output_type": "stream",
     "text": [
      "                                words              person_id  \\\n",
      "0       [Hello, my, name, is, Taylor]        [1, 1, 1, 1, 1]   \n",
      "1  [Hi, my, name, is, Jane, Hi, Jane]  [0, 0, 0, 0, 0, 1, 1]   \n",
      "\n",
      "                                                    result  \n",
      "0             [1, Hello, 1, my, 1, name, 1, is, 1, Taylor]  \n",
      "1  [0, Hi, 0, my, 0, name, 0, is, 0, Jane, 1, Hi, 1, Jane]  \n"
     ]
    }
   ],
   "source": [
    "df = pd.DataFrame({'words': [[\"Hello\", \"my\", \"name\", \"is\", \"Taylor\"], [\"Hi\", \"my\", \"name\", \"is\", \"Jane\", \"Hi\", \"Jane\"]],\n",
    "                   'person_id': [[1, 1, 1, 1, 1], [0, 0, 0, 0, 0, 1, 1]]})\n",
    "\n",
    "def combine_arrays(words, person_id):\n",
    "    combined = []\n",
    "    for i, word in enumerate(words):\n",
    "        combined.append(str(person_id[i]))\n",
    "        combined.append(word)\n",
    "    return combined\n",
    "\n",
    "df['result'] = df.apply(lambda x: combine_arrays(x['words'], x['person_id']), axis=1)\n",
    "\n",
    "print(df)"
   ]
  },
  {
   "cell_type": "code",
   "execution_count": 20,
   "metadata": {},
   "outputs": [
    {
     "name": "stdout",
     "output_type": "stream",
     "text": [
      "                                words              person_id  \\\n",
      "0       [Hello, my, name, is, Taylor]        [1, 1, 1, 1, 1]   \n",
      "1  [Hi, my, name, is, Jane, Hi, Jane]  [0, 0, 0, 0, 0, 1, 1]   \n",
      "\n",
      "                                                    result  \n",
      "0             [1, Hello, 1, my, 1, name, 1, is, 1, Taylor]  \n",
      "1  [0, Hi, 0, my, 0, name, 0, is, 0, Jane, 1, Hi, 1, Jane]  \n"
     ]
    }
   ],
   "source": [
    "pandasDF = pd.DataFrame(df)\n",
    "\n",
    "print(pandasDF)"
   ]
  },
  {
   "cell_type": "code",
   "execution_count": 27,
   "metadata": {},
   "outputs": [
    {
     "data": {
      "text/html": [
       "<table border=\"1\" class=\"dataframe\">\n",
       "  <thead>\n",
       "    <tr style=\"text-align: right;\">\n",
       "      <th></th>\n",
       "      <th>highlighted_result</th>\n",
       "    </tr>\n",
       "  </thead>\n",
       "  <tbody>\n",
       "    <tr>\n",
       "      <th>0</th>\n",
       "      <td>[<span style=\"color: blue; font-weight: bold;\">1</span>, Hello, <span style=\"color: blue; font-weight: bold;\">1</span>, my, <span style=\"color: blue; font-weight: bold;\">1</span>, name, <span style=\"color: blue; font-weight: bold;\">1</span>, is, <span style=\"color: blue; font-weight: bold;\">1</span>, Taylor]</td>\n",
       "    </tr>\n",
       "    <tr>\n",
       "      <th>1</th>\n",
       "      <td>[<span style=\"color: red; font-weight: bold;\">0</span>, Hi, <span style=\"color: red; font-weight: bold;\">0</span>, my, <span style=\"color: red; font-weight: bold;\">0</span>, name, <span style=\"color: red; font-weight: bold;\">0</span>, is, <span style=\"color: red; font-weight: bold;\">0</span>, Jane, <span style=\"color: blue; font-weight: bold;\">1</span>, Hi, <span style=\"color: blue; font-weight: bold;\">1</span>, Jane]</td>\n",
       "    </tr>\n",
       "  </tbody>\n",
       "</table>"
      ],
      "text/plain": [
       "<IPython.core.display.HTML object>"
      ]
     },
     "metadata": {},
     "output_type": "display_data"
    }
   ],
   "source": [
    "def highlight_red(text):\n",
    "    text = str(text)\n",
    "    text = text.replace('0', '<span style=\"color: red; font-weight: bold;\">0</span>')\n",
    "    return text\n",
    "\n",
    "def highlight_blue(text):\n",
    "    text = str(text)\n",
    "    text = text.replace('1', '<span style=\"color: blue; font-weight: bold;\">1</span>')\n",
    "    return text\n",
    "\n",
    "pandasDF['highlighted_result'] = pandasDF['result'].apply(lambda x: [highlight_red(i) if i == '0' else highlight_blue(i) for i in x])\n",
    "\n",
    "display(HTML(pandasDF[['highlighted_result']].to_html(escape = False)))"
   ]
  },
  {
   "cell_type": "code",
   "execution_count": 28,
   "metadata": {},
   "outputs": [
    {
     "name": "stdout",
     "output_type": "stream",
     "text": [
      "                              person_id  \\\n",
      "0  [1, 1, 1, 1, 1, 0, 0, 0, 0, 0, 1, 1]   \n",
      "1  [1, 1, 1, 1, 1, 0, 0, 0, 0, 0, 0, 0]   \n",
      "\n",
      "                                                                       combined  \n",
      "0  [1, Hello, my, name, is, Taylor, 0, Hi, my, name, is, Jane, 1, Hi, Jane]      \n",
      "1  [1, Hi, Taylor, How, are, you, 0, doing, today, Hi, Jane, I'm, good, thanks]  \n"
     ]
    }
   ],
   "source": [
    "def combine_arrays(words, person_id):\n",
    "    result = []\n",
    "    current_person = None\n",
    "    for i, word in enumerate(words):\n",
    "        if current_person != person_id[i]:\n",
    "            result.append(str(person_id[i]))\n",
    "            current_person = person_id[i]\n",
    "        result.append(word)\n",
    "    return result\n",
    "\n",
    "# Load the data into a pandas DataFrame\n",
    "df = pd.DataFrame({\n",
    "    'words': [[\"Hello\", \"my\", \"name\", \"is\", \"Taylor\", \"Hi\", \"my\", \"name\", \"is\", \"Jane\", \"Hi\", \"Jane\"],\n",
    "             [\"Hi\", \"Taylor\", \"How\", \"are\", \"you\", \"doing\", \"today\", \"Hi\", \"Jane\", \"I'm\", \"good\", \"thanks\"]],\n",
    "    'person_id': [[1, 1, 1, 1, 1, 0, 0, 0, 0, 0, 1, 1],\n",
    "                  [1, 1, 1, 1, 1, 0, 0, 0, 0, 0, 0, 0]]\n",
    "})\n",
    "\n",
    "# Apply the combine_arrays function to each row of the dataframe\n",
    "df['combined'] = df.apply(lambda row: combine_arrays(row['words'], row['person_id']), axis = 1)\n",
    "\n",
    "# Print the result\n",
    "print(df[['person_id', 'combined']])"
   ]
  },
  {
   "cell_type": "code",
   "execution_count": 29,
   "metadata": {},
   "outputs": [
    {
     "name": "stdout",
     "output_type": "stream",
     "text": [
      "                                                                    words  \\\n",
      "0  [Hello, my, name, is, Taylor, Hi, my, name, is, Jane, Hi, Jane]          \n",
      "1  [Hi, Taylor, How, are, you, doing, today, Hi, Jane, I'm, good, thanks]   \n",
      "\n",
      "                              person_id  \\\n",
      "0  [1, 1, 1, 1, 1, 0, 0, 0, 0, 0, 1, 1]   \n",
      "1  [1, 1, 1, 1, 1, 0, 0, 0, 0, 0, 0, 0]   \n",
      "\n",
      "                                                                       combined  \n",
      "0  [1, Hello, my, name, is, Taylor, 0, Hi, my, name, is, Jane, 1, Hi, Jane]      \n",
      "1  [1, Hi, Taylor, How, are, you, 0, doing, today, Hi, Jane, I'm, good, thanks]  \n"
     ]
    }
   ],
   "source": [
    "pandasDF = pd.DataFrame(df)\n",
    "\n",
    "print(pandasDF)"
   ]
  },
  {
   "cell_type": "code",
   "execution_count": 31,
   "metadata": {},
   "outputs": [
    {
     "data": {
      "text/html": [
       "<table border=\"1\" class=\"dataframe\">\n",
       "  <thead>\n",
       "    <tr style=\"text-align: right;\">\n",
       "      <th></th>\n",
       "      <th>highlighted</th>\n",
       "    </tr>\n",
       "  </thead>\n",
       "  <tbody>\n",
       "    <tr>\n",
       "      <th>0</th>\n",
       "      <td>[<span style=\"color: blue; font-weight: bold;\">1</span>, Hello, my, name, is, Taylor, <span style=\"color: red; font-weight: bold;\">0</span>, Hi, my, name, is, Jane, <span style=\"color: blue; font-weight: bold;\">1</span>, Hi, Jane]</td>\n",
       "    </tr>\n",
       "    <tr>\n",
       "      <th>1</th>\n",
       "      <td>[<span style=\"color: blue; font-weight: bold;\">1</span>, Hi, Taylor, How, are, you, <span style=\"color: red; font-weight: bold;\">0</span>, doing, today, Hi, Jane, I'm, good, thanks]</td>\n",
       "    </tr>\n",
       "  </tbody>\n",
       "</table>"
      ],
      "text/plain": [
       "<IPython.core.display.HTML object>"
      ]
     },
     "metadata": {},
     "output_type": "display_data"
    }
   ],
   "source": [
    "pandasDF['highlighted'] = pandasDF['combined'].apply(lambda x: [highlight_red(i) if i == '0' else highlight_blue(i) for i in x])\n",
    "\n",
    "display(HTML(pandasDF[['highlighted']].to_html(escape = False)))"
   ]
  },
  {
   "cell_type": "code",
   "execution_count": null,
   "metadata": {},
   "outputs": [],
   "source": []
  }
 ],
 "metadata": {
  "kernelspec": {
   "display_name": "Python 3",
   "language": "python",
   "name": "python3"
  },
  "language_info": {
   "codemirror_mode": {
    "name": "ipython",
    "version": 3
   },
   "file_extension": ".py",
   "mimetype": "text/x-python",
   "name": "python",
   "nbconvert_exporter": "python",
   "pygments_lexer": "ipython3",
   "version": "3.7.3"
  }
 },
 "nbformat": 4,
 "nbformat_minor": 2
}
